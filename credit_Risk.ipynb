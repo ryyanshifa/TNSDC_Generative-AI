{
  "metadata": {
    "kernelspec": {
      "language": "python",
      "display_name": "Python 3",
      "name": "python3"
    },
    "language_info": {
      "pygments_lexer": "ipython3",
      "nbconvert_exporter": "python",
      "version": "3.6.4",
      "file_extension": ".py",
      "codemirror_mode": {
        "name": "ipython",
        "version": 3
      },
      "name": "python",
      "mimetype": "text/x-python"
    },
    "colab": {
      "name": "credit Risk",
      "provenance": []
    }
  },
  "nbformat_minor": 0,
  "nbformat": 4,
  "cells": [
    {
      "source": [
        "\n",
        "# IMPORTANT: RUN THIS CELL IN ORDER TO IMPORT YOUR KAGGLE DATA SOURCES\n",
        "# TO THE CORRECT LOCATION (/kaggle/input) IN YOUR NOTEBOOK,\n",
        "# THEN FEEL FREE TO DELETE THIS CELL.\n",
        "# NOTE: THIS NOTEBOOK ENVIRONMENT DIFFERS FROM KAGGLE'S PYTHON\n",
        "# ENVIRONMENT SO THERE MAY BE MISSING LIBRARIES USED BY YOUR\n",
        "# NOTEBOOK.\n",
        "\n",
        "import os\n",
        "import sys\n",
        "from tempfile import NamedTemporaryFile\n",
        "from urllib.request import urlopen\n",
        "from urllib.parse import unquote, urlparse\n",
        "from urllib.error import HTTPError\n",
        "from zipfile import ZipFile\n",
        "import tarfile\n",
        "import shutil\n",
        "\n",
        "CHUNK_SIZE = 40960\n",
        "DATA_SOURCE_MAPPING = 'credit-risk-analysis-for-extending-bank-loans:https%3A%2F%2Fstorage.googleapis.com%2Fkaggle-data-sets%2F1129608%2F1895696%2Fbundle%2Farchive.zip%3FX-Goog-Algorithm%3DGOOG4-RSA-SHA256%26X-Goog-Credential%3Dgcp-kaggle-com%2540kaggle-161607.iam.gserviceaccount.com%252F20240330%252Fauto%252Fstorage%252Fgoog4_request%26X-Goog-Date%3D20240330T154301Z%26X-Goog-Expires%3D259200%26X-Goog-SignedHeaders%3Dhost%26X-Goog-Signature%3D50db917e626ebd945f68de4b39599af3e8222e21693304313f33019a0f960f150836fab8ed18609514b13c43b1b468bd23e9ea7ba092b8ad658b9a3bde4d3367450170d1765665a3204a1a89cb105d3441a9e881afdf719aaf91469eb00fe3adbfaf6a71e18863d91455d93e67416a86482fa3162bbc9c6b1e8038da2555e4c902c8f97b6daec5f24974897acda850556678a431958b1d232ff74b72a44a2780aaea040ed4ed142d97ce9f1b50d3a015fbc488045fb9c221cf1847de0931652b4a6e2d8c378d54372ff4504302ccae84baa2667bd4f121099bd980f52d7643735f1e0915019deb98898542a62a6c2e6292294a588dc2d287c69aad7e6f702e4c'\n",
        "\n",
        "KAGGLE_INPUT_PATH='/kaggle/input'\n",
        "KAGGLE_WORKING_PATH='/kaggle/working'\n",
        "KAGGLE_SYMLINK='kaggle'\n",
        "\n",
        "!umount /kaggle/input/ 2> /dev/null\n",
        "shutil.rmtree('/kaggle/input', ignore_errors=True)\n",
        "os.makedirs(KAGGLE_INPUT_PATH, 0o777, exist_ok=True)\n",
        "os.makedirs(KAGGLE_WORKING_PATH, 0o777, exist_ok=True)\n",
        "\n",
        "try:\n",
        "  os.symlink(KAGGLE_INPUT_PATH, os.path.join(\"..\", 'input'), target_is_directory=True)\n",
        "except FileExistsError:\n",
        "  pass\n",
        "try:\n",
        "  os.symlink(KAGGLE_WORKING_PATH, os.path.join(\"..\", 'working'), target_is_directory=True)\n",
        "except FileExistsError:\n",
        "  pass\n",
        "\n",
        "for data_source_mapping in DATA_SOURCE_MAPPING.split(','):\n",
        "    directory, download_url_encoded = data_source_mapping.split(':')\n",
        "    download_url = unquote(download_url_encoded)\n",
        "    filename = urlparse(download_url).path\n",
        "    destination_path = os.path.join(KAGGLE_INPUT_PATH, directory)\n",
        "    try:\n",
        "        with urlopen(download_url) as fileres, NamedTemporaryFile() as tfile:\n",
        "            total_length = fileres.headers['content-length']\n",
        "            print(f'Downloading {directory}, {total_length} bytes compressed')\n",
        "            dl = 0\n",
        "            data = fileres.read(CHUNK_SIZE)\n",
        "            while len(data) > 0:\n",
        "                dl += len(data)\n",
        "                tfile.write(data)\n",
        "                done = int(50 * dl / int(total_length))\n",
        "                sys.stdout.write(f\"\\r[{'=' * done}{' ' * (50-done)}] {dl} bytes downloaded\")\n",
        "                sys.stdout.flush()\n",
        "                data = fileres.read(CHUNK_SIZE)\n",
        "            if filename.endswith('.zip'):\n",
        "              with ZipFile(tfile) as zfile:\n",
        "                zfile.extractall(destination_path)\n",
        "            else:\n",
        "              with tarfile.open(tfile.name) as tarfile:\n",
        "                tarfile.extractall(destination_path)\n",
        "            print(f'\\nDownloaded and uncompressed: {directory}')\n",
        "    except HTTPError as e:\n",
        "        print(f'Failed to load (likely expired) {download_url} to path {destination_path}')\n",
        "        continue\n",
        "    except OSError as e:\n",
        "        print(f'Failed to load {download_url} to path {destination_path}')\n",
        "        continue\n",
        "\n",
        "print('Data source import complete.')\n"
      ],
      "metadata": {
        "id": "nh-o9Ov7KRKz"
      },
      "cell_type": "code",
      "outputs": [],
      "execution_count": null
    },
    {
      "cell_type": "code",
      "source": [
        "# This Python 3 environment comes with many helpful analytics libraries installed\n",
        "# It is defined by the kaggle/python Docker image: https://github.com/kaggle/docker-python\n",
        "# For example, here's several helpful packages to load\n",
        "\n",
        "import numpy as np # linear algebra\n",
        "import pandas as pd # data processing, CSV file I/O (e.g. pd.read_csv)\n",
        "import matplotlib.pyplot as plt\n",
        "import seaborn as sns\n",
        "from sklearn.ensemble import RandomForestClassifier\n",
        "from sklearn.svm import SVC\n",
        "from sklearn.linear_model import LogisticRegression\n",
        "\n",
        "from sklearn.metrics import confusion_matrix\n",
        "from sklearn.preprocessing import StandardScaler\n",
        "from sklearn.model_selection import train_test_split,GridSearchCV,cross_val_score\n",
        "\n",
        "%matplotlib inline\n",
        "# Input data files are available in the read-only \"../input/\" directory\n",
        "# For example, running this (by clicking run or pressing Shift+Enter) will list all files under the input directory\n",
        "\n",
        "import os\n",
        "for dirname, _, filenames in os.walk('/kaggle/input'):\n",
        "    for filename in filenames:\n",
        "        print(os.path.join(dirname, filename))\n",
        "\n",
        "# You can write up to 20GB to the current directory (/kaggle/working/) that gets preserved as output when you create a version using \"Save & Run All\"\n",
        "# You can also write temporary files to /kaggle/temp/, but they won't be saved outside of the current session"
      ],
      "metadata": {
        "_uuid": "8f2839f25d086af736a60e9eeb907d3b93b6e0e5",
        "_cell_guid": "b1076dfc-b9ad-4769-8c92-a6c4dae69d19",
        "execution": {
          "iopub.status.busy": "2022-11-15T09:31:42.887721Z",
          "iopub.execute_input": "2022-11-15T09:31:42.888103Z",
          "iopub.status.idle": "2022-11-15T09:31:42.911584Z",
          "shell.execute_reply.started": "2022-11-15T09:31:42.888072Z",
          "shell.execute_reply": "2022-11-15T09:31:42.91033Z"
        },
        "trusted": true,
        "id": "qANzDXrcKRK7"
      },
      "execution_count": null,
      "outputs": []
    },
    {
      "cell_type": "code",
      "source": [
        "df = pd.read_csv('../input/credit-risk-analysis-for-extending-bank-loans/bankloans.csv')\n",
        "df.head()"
      ],
      "metadata": {
        "execution": {
          "iopub.status.busy": "2022-11-15T09:32:56.395065Z",
          "iopub.execute_input": "2022-11-15T09:32:56.395429Z",
          "iopub.status.idle": "2022-11-15T09:32:56.442732Z",
          "shell.execute_reply.started": "2022-11-15T09:32:56.395398Z",
          "shell.execute_reply": "2022-11-15T09:32:56.441824Z"
        },
        "trusted": true,
        "id": "UNP04GxKKRK8"
      },
      "execution_count": null,
      "outputs": []
    },
    {
      "cell_type": "code",
      "source": [
        "df.isnull().sum()"
      ],
      "metadata": {
        "execution": {
          "iopub.status.busy": "2022-11-15T09:35:16.478188Z",
          "iopub.execute_input": "2022-11-15T09:35:16.478609Z",
          "iopub.status.idle": "2022-11-15T09:35:16.488441Z",
          "shell.execute_reply.started": "2022-11-15T09:35:16.478555Z",
          "shell.execute_reply": "2022-11-15T09:35:16.487155Z"
        },
        "trusted": true,
        "id": "uuxf69I7KRK8"
      },
      "execution_count": null,
      "outputs": []
    },
    {
      "cell_type": "code",
      "source": [
        "df.value_counts()"
      ],
      "metadata": {
        "execution": {
          "iopub.status.busy": "2022-11-15T09:34:29.611391Z",
          "iopub.execute_input": "2022-11-15T09:34:29.61178Z",
          "iopub.status.idle": "2022-11-15T09:34:29.644693Z",
          "shell.execute_reply.started": "2022-11-15T09:34:29.61175Z",
          "shell.execute_reply": "2022-11-15T09:34:29.643631Z"
        },
        "trusted": true,
        "id": "zGeMHLZDKRK8"
      },
      "execution_count": null,
      "outputs": []
    },
    {
      "cell_type": "code",
      "source": [
        "df = df.dropna()"
      ],
      "metadata": {
        "execution": {
          "iopub.status.busy": "2022-11-15T09:35:09.482481Z",
          "iopub.execute_input": "2022-11-15T09:35:09.48364Z",
          "iopub.status.idle": "2022-11-15T09:35:09.493379Z",
          "shell.execute_reply.started": "2022-11-15T09:35:09.483564Z",
          "shell.execute_reply": "2022-11-15T09:35:09.492298Z"
        },
        "trusted": true,
        "id": "JGMylLYuKRK9"
      },
      "execution_count": null,
      "outputs": []
    },
    {
      "cell_type": "code",
      "source": [
        "fig,ax = plt.subplots(figsize=(20,10))\n",
        "sns.lineplot(x='age',y='income',data=df,ax=ax)"
      ],
      "metadata": {
        "execution": {
          "iopub.status.busy": "2022-11-15T09:38:13.075699Z",
          "iopub.execute_input": "2022-11-15T09:38:13.076078Z",
          "iopub.status.idle": "2022-11-15T09:38:14.110536Z",
          "shell.execute_reply.started": "2022-11-15T09:38:13.076046Z",
          "shell.execute_reply": "2022-11-15T09:38:14.109556Z"
        },
        "trusted": true,
        "id": "8_7iGS2EKRK9"
      },
      "execution_count": null,
      "outputs": []
    },
    {
      "cell_type": "code",
      "source": [
        "fig,ax = plt.subplots(figsize=(20,10))\n",
        "sns.lineplot(x='age',y='debtinc',data=df,ax=ax)"
      ],
      "metadata": {
        "execution": {
          "iopub.status.busy": "2022-11-15T09:39:20.38375Z",
          "iopub.execute_input": "2022-11-15T09:39:20.384121Z",
          "iopub.status.idle": "2022-11-15T09:39:21.35741Z",
          "shell.execute_reply.started": "2022-11-15T09:39:20.384091Z",
          "shell.execute_reply": "2022-11-15T09:39:21.356505Z"
        },
        "trusted": true,
        "id": "t6hmIJMyKRK9"
      },
      "execution_count": null,
      "outputs": []
    },
    {
      "cell_type": "code",
      "source": [
        "df['default'].value_counts()"
      ],
      "metadata": {
        "execution": {
          "iopub.status.busy": "2022-11-15T09:40:32.802674Z",
          "iopub.execute_input": "2022-11-15T09:40:32.803166Z",
          "iopub.status.idle": "2022-11-15T09:40:32.81803Z",
          "shell.execute_reply.started": "2022-11-15T09:40:32.803121Z",
          "shell.execute_reply": "2022-11-15T09:40:32.816292Z"
        },
        "trusted": true,
        "id": "a1d9rjOQKRK-"
      },
      "execution_count": null,
      "outputs": []
    },
    {
      "cell_type": "code",
      "source": [
        "x=df.drop(['default'],axis=1)\n",
        "y=df['default']"
      ],
      "metadata": {
        "execution": {
          "iopub.status.busy": "2022-11-15T09:43:02.088342Z",
          "iopub.execute_input": "2022-11-15T09:43:02.088742Z",
          "iopub.status.idle": "2022-11-15T09:43:02.094711Z",
          "shell.execute_reply.started": "2022-11-15T09:43:02.088709Z",
          "shell.execute_reply": "2022-11-15T09:43:02.093753Z"
        },
        "trusted": true,
        "id": "fkb7d1LdKRK-"
      },
      "execution_count": null,
      "outputs": []
    },
    {
      "cell_type": "code",
      "source": [
        "xtrain,xtest,ytrain,ytest = train_test_split(x,y,test_size=0.2,random_state=42)"
      ],
      "metadata": {
        "execution": {
          "iopub.status.busy": "2022-11-15T09:45:20.479994Z",
          "iopub.execute_input": "2022-11-15T09:45:20.480378Z",
          "iopub.status.idle": "2022-11-15T09:45:20.488287Z",
          "shell.execute_reply.started": "2022-11-15T09:45:20.480346Z",
          "shell.execute_reply": "2022-11-15T09:45:20.487091Z"
        },
        "trusted": true,
        "id": "4Ulhx40iKRK-"
      },
      "execution_count": null,
      "outputs": []
    },
    {
      "cell_type": "code",
      "source": [
        "sc = StandardScaler()\n",
        "xtrain=sc.fit_transform(xtrain)\n",
        "xtest=sc.fit_transform(xtest)"
      ],
      "metadata": {
        "execution": {
          "iopub.status.busy": "2022-11-15T09:47:22.624994Z",
          "iopub.execute_input": "2022-11-15T09:47:22.625382Z",
          "iopub.status.idle": "2022-11-15T09:47:22.639928Z",
          "shell.execute_reply.started": "2022-11-15T09:47:22.625346Z",
          "shell.execute_reply": "2022-11-15T09:47:22.638977Z"
        },
        "trusted": true,
        "id": "mm43U1TjKRK-"
      },
      "execution_count": null,
      "outputs": []
    },
    {
      "cell_type": "markdown",
      "source": [
        "# **Creating Model**"
      ],
      "metadata": {
        "id": "pxFhThrUKRK-"
      }
    },
    {
      "cell_type": "markdown",
      "source": [
        "Random Forest"
      ],
      "metadata": {
        "id": "Wksht0fYKRLC"
      }
    },
    {
      "cell_type": "code",
      "source": [
        "rfc = RandomForestClassifier(n_estimators=200)"
      ],
      "metadata": {
        "execution": {
          "iopub.status.busy": "2022-11-15T09:50:23.465947Z",
          "iopub.execute_input": "2022-11-15T09:50:23.466302Z",
          "iopub.status.idle": "2022-11-15T09:50:23.470762Z",
          "shell.execute_reply.started": "2022-11-15T09:50:23.466273Z",
          "shell.execute_reply": "2022-11-15T09:50:23.469774Z"
        },
        "trusted": true,
        "id": "Tc69Erc6KRLC"
      },
      "execution_count": null,
      "outputs": []
    },
    {
      "cell_type": "code",
      "source": [
        "rfc.fit(xtrain,ytrain)"
      ],
      "metadata": {
        "execution": {
          "iopub.status.busy": "2022-11-15T09:50:51.591211Z",
          "iopub.execute_input": "2022-11-15T09:50:51.591612Z",
          "iopub.status.idle": "2022-11-15T09:50:51.95472Z",
          "shell.execute_reply.started": "2022-11-15T09:50:51.591542Z",
          "shell.execute_reply": "2022-11-15T09:50:51.953764Z"
        },
        "trusted": true,
        "id": "TtjiXnvVKRLC"
      },
      "execution_count": null,
      "outputs": []
    },
    {
      "cell_type": "code",
      "source": [
        "rfc.score(xtest,ytest)"
      ],
      "metadata": {
        "execution": {
          "iopub.status.busy": "2022-11-15T09:51:33.743888Z",
          "iopub.execute_input": "2022-11-15T09:51:33.744251Z",
          "iopub.status.idle": "2022-11-15T09:51:33.785188Z",
          "shell.execute_reply.started": "2022-11-15T09:51:33.744219Z",
          "shell.execute_reply": "2022-11-15T09:51:33.783861Z"
        },
        "trusted": true,
        "id": "DyL_K0MOKRLC"
      },
      "execution_count": null,
      "outputs": []
    },
    {
      "cell_type": "code",
      "source": [
        "rfc2 = cross_val_score(estimator=rfc,X=xtrain,y=ytrain,cv=10)\n",
        "rfc2.mean()"
      ],
      "metadata": {
        "execution": {
          "iopub.status.busy": "2022-11-15T09:54:13.34788Z",
          "iopub.execute_input": "2022-11-15T09:54:13.348249Z",
          "iopub.status.idle": "2022-11-15T09:54:17.859513Z",
          "shell.execute_reply.started": "2022-11-15T09:54:13.348219Z",
          "shell.execute_reply": "2022-11-15T09:54:17.858458Z"
        },
        "trusted": true,
        "id": "wi5BjyFUKRLC"
      },
      "execution_count": null,
      "outputs": []
    },
    {
      "cell_type": "markdown",
      "source": [
        "SVM"
      ],
      "metadata": {
        "id": "C_kIN-CiKRLD"
      }
    },
    {
      "cell_type": "code",
      "source": [
        "sv = SVC()\n",
        "sv.fit(xtrain,ytrain)"
      ],
      "metadata": {
        "execution": {
          "iopub.status.busy": "2022-11-15T09:55:39.449943Z",
          "iopub.execute_input": "2022-11-15T09:55:39.450318Z",
          "iopub.status.idle": "2022-11-15T09:55:39.483087Z",
          "shell.execute_reply.started": "2022-11-15T09:55:39.450285Z",
          "shell.execute_reply": "2022-11-15T09:55:39.481932Z"
        },
        "trusted": true,
        "id": "kFyYL8oBKRLD"
      },
      "execution_count": null,
      "outputs": []
    },
    {
      "cell_type": "code",
      "source": [
        "sv.score(xtest,ytest)"
      ],
      "metadata": {
        "execution": {
          "iopub.status.busy": "2022-11-15T09:55:51.329161Z",
          "iopub.execute_input": "2022-11-15T09:55:51.329544Z",
          "iopub.status.idle": "2022-11-15T09:55:51.340911Z",
          "shell.execute_reply.started": "2022-11-15T09:55:51.329513Z",
          "shell.execute_reply": "2022-11-15T09:55:51.339548Z"
        },
        "trusted": true,
        "id": "4HOQh6MUKRLD"
      },
      "execution_count": null,
      "outputs": []
    },
    {
      "cell_type": "code",
      "source": [
        "model = GridSearchCV(sv,{\n",
        "    'C':[0.1,0.2,0.4,0.8,1.2,1.8,4.0,7.0],\n",
        "    'gamma':[0.1,0.4,0.8,1.0,2.0,3.0],\n",
        "    'kernel':['rbf','linear']\n",
        "},scoring='accuracy',cv=10)"
      ],
      "metadata": {
        "execution": {
          "iopub.status.busy": "2022-11-15T09:59:34.66179Z",
          "iopub.execute_input": "2022-11-15T09:59:34.662166Z",
          "iopub.status.idle": "2022-11-15T09:59:34.668246Z",
          "shell.execute_reply.started": "2022-11-15T09:59:34.662134Z",
          "shell.execute_reply": "2022-11-15T09:59:34.667023Z"
        },
        "trusted": true,
        "id": "qD6n9FnKKRLD"
      },
      "execution_count": null,
      "outputs": []
    },
    {
      "cell_type": "code",
      "source": [
        "model.fit(xtrain,ytrain)"
      ],
      "metadata": {
        "execution": {
          "iopub.status.busy": "2022-11-15T09:59:54.652132Z",
          "iopub.execute_input": "2022-11-15T09:59:54.652487Z",
          "iopub.status.idle": "2022-11-15T10:00:09.909468Z",
          "shell.execute_reply.started": "2022-11-15T09:59:54.652456Z",
          "shell.execute_reply": "2022-11-15T10:00:09.908536Z"
        },
        "trusted": true,
        "id": "6HVCqqGPKRLD"
      },
      "execution_count": null,
      "outputs": []
    },
    {
      "cell_type": "code",
      "source": [
        "model.best_params_"
      ],
      "metadata": {
        "execution": {
          "iopub.status.busy": "2022-11-15T10:00:47.066499Z",
          "iopub.execute_input": "2022-11-15T10:00:47.067216Z",
          "iopub.status.idle": "2022-11-15T10:00:47.073298Z",
          "shell.execute_reply.started": "2022-11-15T10:00:47.067179Z",
          "shell.execute_reply": "2022-11-15T10:00:47.072398Z"
        },
        "trusted": true,
        "id": "-QusLKHhKRLD"
      },
      "execution_count": null,
      "outputs": []
    },
    {
      "cell_type": "code",
      "source": [
        "model2 = SVC(C=0.1,gamma=0.1,kernel='linear')\n",
        "model2.fit(xtrain,ytrain)\n",
        "model2.score(xtest,ytest)"
      ],
      "metadata": {
        "execution": {
          "iopub.status.busy": "2022-11-15T10:01:46.482393Z",
          "iopub.execute_input": "2022-11-15T10:01:46.482768Z",
          "iopub.status.idle": "2022-11-15T10:01:46.503646Z",
          "shell.execute_reply.started": "2022-11-15T10:01:46.482738Z",
          "shell.execute_reply": "2022-11-15T10:01:46.502491Z"
        },
        "trusted": true,
        "id": "Va9ZDUeUKRLE"
      },
      "execution_count": null,
      "outputs": []
    },
    {
      "cell_type": "code",
      "source": [
        "lr = LogisticRegression()\n",
        "lr.fit(xtrain,ytrain)\n",
        "lr.score(xtest,ytest)"
      ],
      "metadata": {
        "execution": {
          "iopub.status.busy": "2022-11-15T10:02:58.057553Z",
          "iopub.execute_input": "2022-11-15T10:02:58.058548Z",
          "iopub.status.idle": "2022-11-15T10:02:58.075076Z",
          "shell.execute_reply.started": "2022-11-15T10:02:58.058511Z",
          "shell.execute_reply": "2022-11-15T10:02:58.073806Z"
        },
        "trusted": true,
        "id": "VAKH8VJpKRLE"
      },
      "execution_count": null,
      "outputs": []
    },
    {
      "cell_type": "code",
      "source": [
        "yp = lr.predict(xtest)\n",
        "c= confusion_matrix(ytest,yp)\n",
        "fig ,ax = plt.subplots(figsize=(20,10))\n",
        "sns.heatmap(c,ax=ax)"
      ],
      "metadata": {
        "execution": {
          "iopub.status.busy": "2022-11-15T10:05:05.32549Z",
          "iopub.execute_input": "2022-11-15T10:05:05.326193Z",
          "iopub.status.idle": "2022-11-15T10:05:05.589905Z",
          "shell.execute_reply.started": "2022-11-15T10:05:05.326157Z",
          "shell.execute_reply": "2022-11-15T10:05:05.588927Z"
        },
        "trusted": true,
        "id": "LsHcSKYHKRLE"
      },
      "execution_count": null,
      "outputs": []
    }
  ]
}